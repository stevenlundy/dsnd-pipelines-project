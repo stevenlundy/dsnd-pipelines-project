{
 "cells": [
  {
   "cell_type": "markdown",
   "metadata": {},
   "source": [
    "# Pipeline Project"
   ]
  },
  {
   "cell_type": "markdown",
   "metadata": {},
   "source": [
    "You will be using the provided data to create a machine learning model pipeline.\n",
    "\n",
    "You must handle the data appropriately in your pipeline to predict whether an\n",
    "item is recommended by a customer based on their review.\n",
    "Note the data includes numerical, categorical, and text data.\n",
    "\n",
    "You should ensure you properly train and evaluate your model."
   ]
  },
  {
   "cell_type": "markdown",
   "metadata": {},
   "source": [
    "## The Data"
   ]
  },
  {
   "cell_type": "markdown",
   "metadata": {},
   "source": [
    "The dataset has been anonymized and cleaned of missing values.\n",
    "\n",
    "There are 8 features for to use to predict whether a customer recommends or does\n",
    "not recommend a product.\n",
    "The `Recommended IND` column gives whether a customer recommends the product\n",
    "where `1` is recommended and a `0` is not recommended.\n",
    "This is your model's target/"
   ]
  },
  {
   "cell_type": "markdown",
   "metadata": {},
   "source": [
    "The features can be summarized as the following:\n",
    "\n",
    "- **Clothing ID**: Integer Categorical variable that refers to the specific piece being reviewed.\n",
    "- **Age**: Positive Integer variable of the reviewers age.\n",
    "- **Title**: String variable for the title of the review.\n",
    "- **Review Text**: String variable for the review body.\n",
    "- **Positive Feedback Count**: Positive Integer documenting the number of other customers who found this review positive.\n",
    "- **Division Name**: Categorical name of the product high level division.\n",
    "- **Department Name**: Categorical name of the product department name.\n",
    "- **Class Name**: Categorical name of the product class name.\n",
    "\n",
    "The target:\n",
    "- **Recommended IND**: Binary variable stating where the customer recommends the product where 1 is recommended, 0 is not recommended."
   ]
  },
  {
   "cell_type": "markdown",
   "metadata": {},
   "source": [
    "## Load Data"
   ]
  },
  {
   "cell_type": "code",
   "execution_count": null,
   "metadata": {},
   "outputs": [],
   "source": [
    "import pandas as pd\n",
    "\n",
    "# Load data\n",
    "df = pd.read_csv(\n",
    "    \"data/reviews.csv\",\n",
    ")\n",
    "\n",
    "df.info()\n",
    "df.head()"
   ]
  },
  {
   "cell_type": "markdown",
   "metadata": {},
   "source": [
    "## Preparing features (`X`) & target (`y`)"
   ]
  },
  {
   "cell_type": "code",
   "execution_count": null,
   "metadata": {},
   "outputs": [],
   "source": [
    "data = df\n",
    "\n",
    "# separate features from labels\n",
    "X = data.drop(\"Recommended IND\", axis=1)\n",
    "y = data[\"Recommended IND\"].copy()\n",
    "\n",
    "print(\"Labels:\", y.unique())\n",
    "print(\"Features:\")\n",
    "display(X.head())"
   ]
  },
  {
   "cell_type": "code",
   "execution_count": null,
   "metadata": {},
   "outputs": [],
   "source": [
    "# Split data into train and test sets\n",
    "from sklearn.model_selection import train_test_split\n",
    "\n",
    "X_train, X_test, y_train, y_test = train_test_split(\n",
    "    X,\n",
    "    y,\n",
    "    test_size=0.1,\n",
    "    shuffle=True,\n",
    "    random_state=27,\n",
    ")"
   ]
  },
  {
   "cell_type": "markdown",
   "metadata": {},
   "source": [
    "## Load NLP"
   ]
  },
  {
   "cell_type": "code",
   "execution_count": null,
   "metadata": {},
   "outputs": [],
   "source": [
    "# ! python -m spacy download en_core_web_sm"
   ]
  },
  {
   "cell_type": "code",
   "execution_count": null,
   "metadata": {},
   "outputs": [],
   "source": [
    "import spacy\n",
    "\n",
    "nlp = spacy.load(\"en_core_web_sm\")"
   ]
  },
  {
   "cell_type": "markdown",
   "metadata": {},
   "source": [
    "# Your Work"
   ]
  },
  {
   "cell_type": "markdown",
   "metadata": {},
   "source": [
    "## Data Exploration"
   ]
  },
  {
   "cell_type": "code",
   "execution_count": null,
   "metadata": {},
   "outputs": [],
   "source": [
    "import matplotlib.pyplot as plt"
   ]
  },
  {
   "cell_type": "code",
   "execution_count": null,
   "metadata": {},
   "outputs": [],
   "source": [
    "# Numerical features\n",
    "num_features = [\"Clothing ID\", \"Age\", \"Positive Feedback Count\"]\n",
    "\n",
    "fig, axs = plt.subplots(2, 3, figsize=(15, 10))\n",
    "\n",
    "i = 0\n",
    "# histogram of numerical features\n",
    "for feature in num_features:\n",
    "    ax = axs[i // 3, i % 3]\n",
    "    data[feature].plot.hist(ax=ax)\n",
    "    ax.set_title(feature)\n",
    "    ax.legend()\n",
    "    i += 1\n",
    "\n",
    "# box and whisker plot of numerical features split by Recommended IND\n",
    "for feature in num_features:\n",
    "    ax = axs[i // 3, i % 3]\n",
    "    data.boxplot(column=feature, by=\"Recommended IND\", ax=ax, vert=False)\n",
    "    ax.set_title(\"\")\n",
    "    ax.set_title(feature)\n",
    "    ax.tick_params(axis=\"x\", rotation=0)\n",
    "    i += 1"
   ]
  },
  {
   "cell_type": "code",
   "execution_count": null,
   "metadata": {},
   "outputs": [],
   "source": [
    "# Categorical features\n",
    "cat_features = [\"Division Name\", \"Department Name\", \"Class Name\"]\n",
    "\n",
    "cat_order_by_feature = {}\n",
    "\n",
    "fig, axs = plt.subplots(2, 3, figsize=(15, 10))\n",
    "\n",
    "i = 0\n",
    "# bar plot of categorical features\n",
    "for feature in cat_features:\n",
    "    cat_order_by_feature[feature] = data[feature].value_counts().index\n",
    "    ax = axs[i // 3, i % 3]\n",
    "    for recommended in [0, 1]:\n",
    "        data[data[\"Recommended IND\"] == recommended][feature].value_counts().reindex(\n",
    "            cat_order_by_feature[feature]\n",
    "        ).plot.bar(alpha=0.6, ax=ax, label=f\"Recommended {recommended}\")\n",
    "    i += 1\n",
    "\n",
    "# categorical features as percentage by Recommended IND\n",
    "for feature in cat_features:\n",
    "    ax = axs[i // 3, i % 3]\n",
    "    data.groupby([feature, \"Recommended IND\"]).size().unstack().apply(\n",
    "        lambda x: x / x.sum(), axis=1\n",
    "    ).reindex(cat_order_by_feature[feature]).plot.bar(stacked=True, ax=ax)\n",
    "    i += 1"
   ]
  },
  {
   "cell_type": "code",
   "execution_count": null,
   "metadata": {},
   "outputs": [],
   "source": [
    "# Text features\n",
    "text_features = [\"Review Text\", \"Title\"]\n",
    "\n",
    "fig, axs = plt.subplots(2, 2, figsize=(15, 10))\n",
    "\n",
    "# text features\n",
    "i = 0\n",
    "# histogram of text features word count\n",
    "for feature in text_features:\n",
    "    ax = axs[i // 2, i % 2]\n",
    "    # count the number of words in each review\n",
    "\n",
    "    bin_size = data[feature].str.split().apply(len).max() // 10\n",
    "    bins = range(0, data[feature].str.split().apply(len).max() + bin_size, bin_size)\n",
    "\n",
    "    length_feature = f\"{feature} word count\"\n",
    "    data[length_feature] = data[feature].str.split().apply(len)\n",
    "    for recommended in [0, 1]:\n",
    "        data[data[\"Recommended IND\"] == recommended][length_feature].plot.hist(\n",
    "            alpha=0.6, ax=ax, label=f\"Recommended {recommended}\", bins=bins\n",
    "        )\n",
    "    i += 1\n",
    "\n",
    "# box and whisker plot of text features word count split by Recommended IND\n",
    "for feature in text_features:\n",
    "    ax = axs[i // 2, i % 2]\n",
    "    data.boxplot(\n",
    "        column=f\"{feature} word count\", by=\"Recommended IND\", ax=ax, vert=False\n",
    "    )\n",
    "    i += 1"
   ]
  },
  {
   "cell_type": "code",
   "execution_count": null,
   "metadata": {},
   "outputs": [],
   "source": [
    "import re\n",
    "\n",
    "# Punctuation\n",
    "punctuation = [\n",
    "    (\".\", \"period\"),\n",
    "    (\"!\", \"exclamation mark\"),\n",
    "    (\"?\", \"question mark\"),\n",
    "]\n",
    "\n",
    "fig, axs = plt.subplots(1, 3, figsize=(15, 5))\n",
    "\n",
    "# Box and whisker plot of number of each punctuation mark per review split by Recommended IND\n",
    "for i, (p_mark, p_name) in enumerate(punctuation):\n",
    "    ax = axs[i]\n",
    "    data[f\"{p_name} count\"] = data[\"Review Text\"].str.count(re.escape(p_mark))\n",
    "    data.boxplot(column=f\"{p_name} count\", by=\"Recommended IND\", ax=ax, vert=False)"
   ]
  },
  {
   "cell_type": "code",
   "execution_count": null,
   "metadata": {},
   "outputs": [],
   "source": [
    "from sklearn.feature_extraction.text import TfidfVectorizer\n",
    "\n",
    "tfidf = TfidfVectorizer(\n",
    "    stop_words=\"english\",\n",
    "    max_features=50,\n",
    "    max_df=0.9,\n",
    "    min_df=0.1,\n",
    "    ngram_range=(1, 2),\n",
    ")\n",
    "\n",
    "\n",
    "fig, axs = plt.subplots(1, 2, figsize=(16, 8))\n",
    "\n",
    "# for each recommended value, plot the most common words\n",
    "for recommended in [0, 1]:\n",
    "    # fit the vectorizer on the training data\n",
    "    X_tfidf = tfidf.fit_transform(\n",
    "        data[data[\"Recommended IND\"] == recommended][\"Review Text\"]\n",
    "    )\n",
    "    # get the most common words\n",
    "    common_words = tfidf.get_feature_names_out()\n",
    "    # plot the most common words\n",
    "    ax = axs[recommended]\n",
    "    pd.DataFrame(X_tfidf.toarray(), columns=common_words).sum().sort_values().plot.barh(\n",
    "        ax=ax, title=f\"Recommended {recommended}\"\n",
    "    )\n",
    "\n",
    "\n",
    "plt.show()"
   ]
  },
  {
   "cell_type": "markdown",
   "metadata": {},
   "source": [
    "## Building Pipeline"
   ]
  },
  {
   "cell_type": "markdown",
   "metadata": {},
   "source": [
    "## Training Pipeline"
   ]
  },
  {
   "cell_type": "markdown",
   "metadata": {},
   "source": [
    "## Fine-Tuning Pipeline"
   ]
  }
 ],
 "metadata": {
  "kernelspec": {
   "display_name": "dsnd-pipelines-project",
   "language": "python",
   "name": "python3"
  },
  "language_info": {
   "codemirror_mode": {
    "name": "ipython",
    "version": 3
   },
   "file_extension": ".py",
   "mimetype": "text/x-python",
   "name": "python",
   "nbconvert_exporter": "python",
   "pygments_lexer": "ipython3",
   "version": "3.11.2"
  }
 },
 "nbformat": 4,
 "nbformat_minor": 2
}
